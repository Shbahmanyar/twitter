{
  "nbformat": 4,
  "nbformat_minor": 0,
  "metadata": {
    "colab": {
      "provenance": []
    },
    "kernelspec": {
      "name": "python3",
      "display_name": "Python 3"
    },
    "language_info": {
      "name": "python"
    }
  },
  "cells": [
    {
      "cell_type": "code",
      "execution_count": 1,
      "metadata": {
        "id": "IapKEvDPSY30"
      },
      "outputs": [],
      "source": [
        "import tweepy\n",
        "from tweepy import OAuthHandler\n",
        "import pandas as pd\n",
        "import time"
      ]
    },
    {
      "cell_type": "code",
      "source": [
        "consumer_key = \"\"\n",
        "consumer_secret =\"\"\n",
        "access_token = \"\"\n",
        "access_token_secret = \"\"\n",
        "auth = tweepy.OAuthHandler(consumer_key, consumer_secret)\n",
        "auth.set_access_token(access_token, access_token_secret)\n",
        "api = tweepy.API(auth, wait_on_rate_limit=True)"
      ],
      "metadata": {
        "id": "LjKnu-9eScaj"
      },
      "execution_count": 2,
      "outputs": []
    },
    {
      "cell_type": "code",
      "source": [
        "#count = 200"
      ],
      "metadata": {
        "id": "y0xLe4X6TM5G"
      },
      "execution_count": 6,
      "outputs": []
    },
    {
      "cell_type": "code",
      "source": [
        "df_query_based_tweets = pd.DataFrame()\n",
        "text_query = 'کرونا_قرنطینه'\n",
        "\n",
        "    # Creation of query method using appropriate parameters\n",
        "tweets = tweepy.Cursor(api.search, q=text_query,lang=\"fa\", tweet_mode='extended' ).items()\n",
        "\n",
        "    # Pulling information from tweets iterable object and adding relevant tweet information in our data frame\n",
        "for tweet in tweets:\n",
        "    df_query_based_tweets = df_query_based_tweets.append(\n",
        "                          {'User ID': tweet._json['id'],\n",
        "                           'Text': tweet.full_text,\n",
        "                           'Followers Count': tweet.user._json['followers_count'],\n",
        "                           'Friends Count': tweet.user._json['friends_count'],\n",
        "                           'Statuses Count': tweet.user._json['statuses_count'],\n",
        "                         }, ignore_index=True)\n"
      ],
      "metadata": {
        "id": "zaDgZsRES2oV"
      },
      "execution_count": 15,
      "outputs": []
    },
    {
      "cell_type": "code",
      "source": [
        "#for tweet in tweets:\n",
        " #   Text = tweet._json[\"full_text\"]\n",
        "  #  print(Text)"
      ],
      "metadata": {
        "id": "UJGhQCB4ZXyc"
      },
      "execution_count": null,
      "outputs": []
    },
    {
      "cell_type": "code",
      "source": [
        "df_query_based_tweets.head()\n"
      ],
      "metadata": {
        "colab": {
          "base_uri": "https://localhost:8080/",
          "height": 206
        },
        "id": "wleHMpf7TWC2",
        "outputId": "73699bc7-df31-466a-ba50-b5c7c1940a55"
      },
      "execution_count": 16,
      "outputs": [
        {
          "output_type": "execute_result",
          "data": {
            "text/plain": [
              "        User ID                                               Text  \\\n",
              "0  1.624791e+18  @saiedeh10 این زنیکه یه جنده صادراتیه. لابلای ...   \n",
              "1  1.624688e+18  @inFORmtal موج جدید کرونا:،،)))؟؟؟؟؟؟؟!!!!\\nقر...   \n",
              "2  1.624549e+18  @ucancallmevav من ۲۰ سالگیم خورد به کرونا و هم...   \n",
              "3  1.624535e+18  حس و حال گهی دارم . نزدیک ۵ ساله فقط عذاب کشید...   \n",
              "4  1.624289e+18  تو ۲۴ ساعت گذشته در کشور\\n۸۴۹ نفر به کرونا مبت...   \n",
              "\n",
              "   Followers Count  Friends Count  Statuses Count  \n",
              "0            355.0          368.0          6005.0  \n",
              "1             54.0           75.0           280.0  \n",
              "2             47.0           74.0           241.0  \n",
              "3            221.0          873.0          2730.0  \n",
              "4            166.0          169.0          2843.0  "
            ],
            "text/html": [
              "\n",
              "  <div id=\"df-b661b889-05eb-49e6-9523-1934cfb93e03\">\n",
              "    <div class=\"colab-df-container\">\n",
              "      <div>\n",
              "<style scoped>\n",
              "    .dataframe tbody tr th:only-of-type {\n",
              "        vertical-align: middle;\n",
              "    }\n",
              "\n",
              "    .dataframe tbody tr th {\n",
              "        vertical-align: top;\n",
              "    }\n",
              "\n",
              "    .dataframe thead th {\n",
              "        text-align: right;\n",
              "    }\n",
              "</style>\n",
              "<table border=\"1\" class=\"dataframe\">\n",
              "  <thead>\n",
              "    <tr style=\"text-align: right;\">\n",
              "      <th></th>\n",
              "      <th>User ID</th>\n",
              "      <th>Text</th>\n",
              "      <th>Followers Count</th>\n",
              "      <th>Friends Count</th>\n",
              "      <th>Statuses Count</th>\n",
              "    </tr>\n",
              "  </thead>\n",
              "  <tbody>\n",
              "    <tr>\n",
              "      <th>0</th>\n",
              "      <td>1.624791e+18</td>\n",
              "      <td>@saiedeh10 این زنیکه یه جنده صادراتیه. لابلای ...</td>\n",
              "      <td>355.0</td>\n",
              "      <td>368.0</td>\n",
              "      <td>6005.0</td>\n",
              "    </tr>\n",
              "    <tr>\n",
              "      <th>1</th>\n",
              "      <td>1.624688e+18</td>\n",
              "      <td>@inFORmtal موج جدید کرونا:،،)))؟؟؟؟؟؟؟!!!!\\nقر...</td>\n",
              "      <td>54.0</td>\n",
              "      <td>75.0</td>\n",
              "      <td>280.0</td>\n",
              "    </tr>\n",
              "    <tr>\n",
              "      <th>2</th>\n",
              "      <td>1.624549e+18</td>\n",
              "      <td>@ucancallmevav من ۲۰ سالگیم خورد به کرونا و هم...</td>\n",
              "      <td>47.0</td>\n",
              "      <td>74.0</td>\n",
              "      <td>241.0</td>\n",
              "    </tr>\n",
              "    <tr>\n",
              "      <th>3</th>\n",
              "      <td>1.624535e+18</td>\n",
              "      <td>حس و حال گهی دارم . نزدیک ۵ ساله فقط عذاب کشید...</td>\n",
              "      <td>221.0</td>\n",
              "      <td>873.0</td>\n",
              "      <td>2730.0</td>\n",
              "    </tr>\n",
              "    <tr>\n",
              "      <th>4</th>\n",
              "      <td>1.624289e+18</td>\n",
              "      <td>تو ۲۴ ساعت گذشته در کشور\\n۸۴۹ نفر به کرونا مبت...</td>\n",
              "      <td>166.0</td>\n",
              "      <td>169.0</td>\n",
              "      <td>2843.0</td>\n",
              "    </tr>\n",
              "  </tbody>\n",
              "</table>\n",
              "</div>\n",
              "      <button class=\"colab-df-convert\" onclick=\"convertToInteractive('df-b661b889-05eb-49e6-9523-1934cfb93e03')\"\n",
              "              title=\"Convert this dataframe to an interactive table.\"\n",
              "              style=\"display:none;\">\n",
              "        \n",
              "  <svg xmlns=\"http://www.w3.org/2000/svg\" height=\"24px\"viewBox=\"0 0 24 24\"\n",
              "       width=\"24px\">\n",
              "    <path d=\"M0 0h24v24H0V0z\" fill=\"none\"/>\n",
              "    <path d=\"M18.56 5.44l.94 2.06.94-2.06 2.06-.94-2.06-.94-.94-2.06-.94 2.06-2.06.94zm-11 1L8.5 8.5l.94-2.06 2.06-.94-2.06-.94L8.5 2.5l-.94 2.06-2.06.94zm10 10l.94 2.06.94-2.06 2.06-.94-2.06-.94-.94-2.06-.94 2.06-2.06.94z\"/><path d=\"M17.41 7.96l-1.37-1.37c-.4-.4-.92-.59-1.43-.59-.52 0-1.04.2-1.43.59L10.3 9.45l-7.72 7.72c-.78.78-.78 2.05 0 2.83L4 21.41c.39.39.9.59 1.41.59.51 0 1.02-.2 1.41-.59l7.78-7.78 2.81-2.81c.8-.78.8-2.07 0-2.86zM5.41 20L4 18.59l7.72-7.72 1.47 1.35L5.41 20z\"/>\n",
              "  </svg>\n",
              "      </button>\n",
              "      \n",
              "  <style>\n",
              "    .colab-df-container {\n",
              "      display:flex;\n",
              "      flex-wrap:wrap;\n",
              "      gap: 12px;\n",
              "    }\n",
              "\n",
              "    .colab-df-convert {\n",
              "      background-color: #E8F0FE;\n",
              "      border: none;\n",
              "      border-radius: 50%;\n",
              "      cursor: pointer;\n",
              "      display: none;\n",
              "      fill: #1967D2;\n",
              "      height: 32px;\n",
              "      padding: 0 0 0 0;\n",
              "      width: 32px;\n",
              "    }\n",
              "\n",
              "    .colab-df-convert:hover {\n",
              "      background-color: #E2EBFA;\n",
              "      box-shadow: 0px 1px 2px rgba(60, 64, 67, 0.3), 0px 1px 3px 1px rgba(60, 64, 67, 0.15);\n",
              "      fill: #174EA6;\n",
              "    }\n",
              "\n",
              "    [theme=dark] .colab-df-convert {\n",
              "      background-color: #3B4455;\n",
              "      fill: #D2E3FC;\n",
              "    }\n",
              "\n",
              "    [theme=dark] .colab-df-convert:hover {\n",
              "      background-color: #434B5C;\n",
              "      box-shadow: 0px 1px 3px 1px rgba(0, 0, 0, 0.15);\n",
              "      filter: drop-shadow(0px 1px 2px rgba(0, 0, 0, 0.3));\n",
              "      fill: #FFFFFF;\n",
              "    }\n",
              "  </style>\n",
              "\n",
              "      <script>\n",
              "        const buttonEl =\n",
              "          document.querySelector('#df-b661b889-05eb-49e6-9523-1934cfb93e03 button.colab-df-convert');\n",
              "        buttonEl.style.display =\n",
              "          google.colab.kernel.accessAllowed ? 'block' : 'none';\n",
              "\n",
              "        async function convertToInteractive(key) {\n",
              "          const element = document.querySelector('#df-b661b889-05eb-49e6-9523-1934cfb93e03');\n",
              "          const dataTable =\n",
              "            await google.colab.kernel.invokeFunction('convertToInteractive',\n",
              "                                                     [key], {});\n",
              "          if (!dataTable) return;\n",
              "\n",
              "          const docLinkHtml = 'Like what you see? Visit the ' +\n",
              "            '<a target=\"_blank\" href=https://colab.research.google.com/notebooks/data_table.ipynb>data table notebook</a>'\n",
              "            + ' to learn more about interactive tables.';\n",
              "          element.innerHTML = '';\n",
              "          dataTable['output_type'] = 'display_data';\n",
              "          await google.colab.output.renderOutput(dataTable, element);\n",
              "          const docLink = document.createElement('div');\n",
              "          docLink.innerHTML = docLinkHtml;\n",
              "          element.appendChild(docLink);\n",
              "        }\n",
              "      </script>\n",
              "    </div>\n",
              "  </div>\n",
              "  "
            ]
          },
          "metadata": {},
          "execution_count": 16
        }
      ]
    },
    {
      "cell_type": "code",
      "source": [
        "\n",
        "df_query_based_tweets.to_csv('fa_t1.csv', index=False, header=True, encoding=\"utf-8-sig\")\n"
      ],
      "metadata": {
        "id": "eyH8lViUTksi"
      },
      "execution_count": 42,
      "outputs": []
    },
    {
      "cell_type": "code",
      "source": [
        "from google.colab import files\n",
        "files.download('fa_t1.csv')"
      ],
      "metadata": {
        "colab": {
          "base_uri": "https://localhost:8080/",
          "height": 17
        },
        "id": "KgyyOgXDepu4",
        "outputId": "51de6a27-7fab-406b-ca79-b2eb64b1e381"
      },
      "execution_count": 43,
      "outputs": [
        {
          "output_type": "display_data",
          "data": {
            "text/plain": [
              "<IPython.core.display.Javascript object>"
            ],
            "application/javascript": [
              "\n",
              "    async function download(id, filename, size) {\n",
              "      if (!google.colab.kernel.accessAllowed) {\n",
              "        return;\n",
              "      }\n",
              "      const div = document.createElement('div');\n",
              "      const label = document.createElement('label');\n",
              "      label.textContent = `Downloading \"${filename}\": `;\n",
              "      div.appendChild(label);\n",
              "      const progress = document.createElement('progress');\n",
              "      progress.max = size;\n",
              "      div.appendChild(progress);\n",
              "      document.body.appendChild(div);\n",
              "\n",
              "      const buffers = [];\n",
              "      let downloaded = 0;\n",
              "\n",
              "      const channel = await google.colab.kernel.comms.open(id);\n",
              "      // Send a message to notify the kernel that we're ready.\n",
              "      channel.send({})\n",
              "\n",
              "      for await (const message of channel.messages) {\n",
              "        // Send a message to notify the kernel that we're ready.\n",
              "        channel.send({})\n",
              "        if (message.buffers) {\n",
              "          for (const buffer of message.buffers) {\n",
              "            buffers.push(buffer);\n",
              "            downloaded += buffer.byteLength;\n",
              "            progress.value = downloaded;\n",
              "          }\n",
              "        }\n",
              "      }\n",
              "      const blob = new Blob(buffers, {type: 'application/binary'});\n",
              "      const a = document.createElement('a');\n",
              "      a.href = window.URL.createObjectURL(blob);\n",
              "      a.download = filename;\n",
              "      div.appendChild(a);\n",
              "      a.click();\n",
              "      div.remove();\n",
              "    }\n",
              "  "
            ]
          },
          "metadata": {}
        },
        {
          "output_type": "display_data",
          "data": {
            "text/plain": [
              "<IPython.core.display.Javascript object>"
            ],
            "application/javascript": [
              "download(\"download_d389318c-be29-456a-8754-a5537f7faaa6\", \"fa_t1.csv\", 20486)"
            ]
          },
          "metadata": {}
        }
      ]
    }
  ]
}