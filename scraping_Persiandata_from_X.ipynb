{
  "nbformat": 4,
  "nbformat_minor": 0,
  "metadata": {
    "colab": {
      "provenance": []
    },
    "kernelspec": {
      "name": "python3",
      "display_name": "Python 3"
    },
    "language_info": {
      "name": "python"
    }
  },
  "cells": [
    {
      "cell_type": "code",
      "source": [
        "pip install ntscraper"
      ],
      "metadata": {
        "colab": {
          "base_uri": "https://localhost:8080/"
        },
        "id": "n5p9e2S1KouN",
        "outputId": "328cbe2d-787e-4165-bbc5-30d6360670ec"
      },
      "execution_count": 14,
      "outputs": [
        {
          "output_type": "stream",
          "name": "stdout",
          "text": [
            "Requirement already satisfied: ntscraper in /usr/local/lib/python3.10/dist-packages (0.3.12)\n",
            "Requirement already satisfied: requests in /usr/local/lib/python3.10/dist-packages (from ntscraper) (2.31.0)\n",
            "Requirement already satisfied: beautifulsoup4 in /usr/local/lib/python3.10/dist-packages (from ntscraper) (4.12.3)\n",
            "Requirement already satisfied: lxml in /usr/local/lib/python3.10/dist-packages (from ntscraper) (4.9.4)\n",
            "Requirement already satisfied: soupsieve>1.2 in /usr/local/lib/python3.10/dist-packages (from beautifulsoup4->ntscraper) (2.5)\n",
            "Requirement already satisfied: charset-normalizer<4,>=2 in /usr/local/lib/python3.10/dist-packages (from requests->ntscraper) (3.3.2)\n",
            "Requirement already satisfied: idna<4,>=2.5 in /usr/local/lib/python3.10/dist-packages (from requests->ntscraper) (3.6)\n",
            "Requirement already satisfied: urllib3<3,>=1.21.1 in /usr/local/lib/python3.10/dist-packages (from requests->ntscraper) (2.0.7)\n",
            "Requirement already satisfied: certifi>=2017.4.17 in /usr/local/lib/python3.10/dist-packages (from requests->ntscraper) (2024.2.2)\n"
          ]
        }
      ]
    },
    {
      "cell_type": "code",
      "execution_count": 15,
      "metadata": {
        "id": "_rpsYytHJ-TX"
      },
      "outputs": [],
      "source": [
        "import pandas as pd\n",
        "from ntscraper import Nitter\n",
        "import urllib.parse"
      ]
    },
    {
      "cell_type": "code",
      "source": [
        "scraper = Nitter()"
      ],
      "metadata": {
        "colab": {
          "base_uri": "https://localhost:8080/"
        },
        "id": "8sgsEbIeKuHo",
        "outputId": "f2b12e59-30ef-43b4-dc89-d8addc163935"
      },
      "execution_count": 16,
      "outputs": [
        {
          "output_type": "stream",
          "name": "stderr",
          "text": [
            "Testing instances: 100%|██████████| 77/77 [01:50<00:00,  1.44s/it]\n"
          ]
        }
      ]
    },
    {
      "cell_type": "code",
      "source": [
        "def get_tweets(name,modes,no):\n",
        "    tweets = scraper.get_tweets(name, mode=modes,number=no)\n",
        "    final_tweets =[]\n",
        "    for tweet in tweets['tweets']:\n",
        "        data = [tweet['text']]\n",
        "        final_tweets.append(data)\n",
        "    data = pd.DataFrame(final_tweets, columns=['text'])\n",
        "    return data"
      ],
      "metadata": {
        "id": "KrnR_IGnNnNM"
      },
      "execution_count": 95,
      "outputs": []
    },
    {
      "cell_type": "code",
      "source": [
        "data = get_tweets( 'برکت AND واکسن ','term',500)"
      ],
      "metadata": {
        "colab": {
          "base_uri": "https://localhost:8080/"
        },
        "id": "T6-yHkTHNWd5",
        "outputId": "da59faa9-edfb-498e-c8dc-cc9b77bff3c8"
      },
      "execution_count": 101,
      "outputs": [
        {
          "output_type": "stream",
          "name": "stderr",
          "text": [
            "INFO:root:No instance specified, using random instance https://nitter.tux.pizza\n",
            "INFO:root:Current stats for برکت AND واکسن: 10 tweets, 0 threads...\n",
            "INFO:root:Current stats for برکت AND واکسن: 13 tweets, 0 threads...\n",
            "INFO:root:Current stats for برکت AND واکسن: 21 tweets, 0 threads...\n",
            "INFO:root:Current stats for برکت AND واکسن: 31 tweets, 0 threads...\n",
            "INFO:root:Current stats for برکت AND واکسن: 43 tweets, 0 threads...\n",
            "INFO:root:Current stats for برکت AND واکسن: 60 tweets, 0 threads...\n",
            "INFO:root:Current stats for برکت AND واکسن: 78 tweets, 0 threads...\n",
            "INFO:root:Current stats for برکت AND واکسن: 95 tweets, 0 threads...\n",
            "INFO:root:Current stats for برکت AND واکسن: 115 tweets, 0 threads...\n",
            "INFO:root:Current stats for برکت AND واکسن: 130 tweets, 0 threads...\n",
            "INFO:root:Current stats for برکت AND واکسن: 147 tweets, 0 threads...\n",
            "INFO:root:Current stats for برکت AND واکسن: 166 tweets, 0 threads...\n",
            "INFO:root:Current stats for برکت AND واکسن: 184 tweets, 0 threads...\n",
            "INFO:root:Current stats for برکت AND واکسن: 203 tweets, 0 threads...\n",
            "INFO:root:Current stats for برکت AND واکسن: 221 tweets, 0 threads...\n",
            "INFO:root:Current stats for برکت AND واکسن: 240 tweets, 0 threads...\n",
            "INFO:root:Current stats for برکت AND واکسن: 257 tweets, 0 threads...\n",
            "INFO:root:Current stats for برکت AND واکسن: 273 tweets, 0 threads...\n",
            "INFO:root:Current stats for برکت AND واکسن: 288 tweets, 0 threads...\n",
            "INFO:root:Current stats for برکت AND واکسن: 306 tweets, 0 threads...\n",
            "INFO:root:Current stats for برکت AND واکسن: 323 tweets, 0 threads...\n",
            "INFO:root:Current stats for برکت AND واکسن: 340 tweets, 0 threads...\n",
            "INFO:root:Current stats for برکت AND واکسن: 358 tweets, 0 threads...\n",
            "INFO:root:Current stats for برکت AND واکسن: 376 tweets, 0 threads...\n",
            "INFO:root:Current stats for برکت AND واکسن: 392 tweets, 0 threads...\n",
            "INFO:root:Current stats for برکت AND واکسن: 408 tweets, 0 threads...\n",
            "INFO:root:Current stats for برکت AND واکسن: 425 tweets, 0 threads...\n",
            "INFO:root:Current stats for برکت AND واکسن: 443 tweets, 0 threads...\n",
            "INFO:root:Current stats for برکت AND واکسن: 461 tweets, 0 threads...\n",
            "INFO:root:Current stats for برکت AND واکسن: 478 tweets, 0 threads...\n",
            "INFO:root:Current stats for برکت AND واکسن: 498 tweets, 0 threads...\n",
            "INFO:root:Current stats for برکت AND واکسن: 500 tweets, 0 threads...\n"
          ]
        }
      ]
    },
    {
      "cell_type": "code",
      "source": [
        "data"
      ],
      "metadata": {
        "colab": {
          "base_uri": "https://localhost:8080/",
          "height": 424
        },
        "id": "URkA1O3MRLKh",
        "outputId": "e2d579b6-72fc-4424-ac8a-6cfe6cf173c3"
      },
      "execution_count": 102,
      "outputs": [
        {
          "output_type": "execute_result",
          "data": {
            "text/plain": [
              "                                                  text\n",
              "0    امروز خبر پاکبانی که توسط اراذل جمهوری اسلامی ...\n",
              "1    تاریخ اینگونه وارونه میشه.  کشور رو معطل واکسن...\n",
              "2    کوروش کمپانی ۴۰ میلیون دلار بدلیل ممنوعیت ورود...\n",
              "3                                     عوارض واکسن برکت\n",
              "4    بارش اولین برف در سطح شهر مزارشریف باعث ایجاد ...\n",
              "..                                                 ...\n",
              "495  چاپ مقاله در هفتمین ژورنال برتر دنیا در زمینه ...\n",
              "496  اینم از بدبختی خود تحقیرها بود که به برکت میگف...\n",
              "497  همین یک خبر کافیه تا به این باور برسیم که ما \"...\n",
              "498  در رابطه با واکسن برکت بعد از چهار سال !، سازم...\n",
              "499  🔴مقاله تحقیقات #واکسن_برکت ⁩برای نخستین‌بار در...\n",
              "\n",
              "[500 rows x 1 columns]"
            ],
            "text/html": [
              "\n",
              "  <div id=\"df-d908adf3-28c7-40fb-baa7-a41e975d490c\" class=\"colab-df-container\">\n",
              "    <div>\n",
              "<style scoped>\n",
              "    .dataframe tbody tr th:only-of-type {\n",
              "        vertical-align: middle;\n",
              "    }\n",
              "\n",
              "    .dataframe tbody tr th {\n",
              "        vertical-align: top;\n",
              "    }\n",
              "\n",
              "    .dataframe thead th {\n",
              "        text-align: right;\n",
              "    }\n",
              "</style>\n",
              "<table border=\"1\" class=\"dataframe\">\n",
              "  <thead>\n",
              "    <tr style=\"text-align: right;\">\n",
              "      <th></th>\n",
              "      <th>text</th>\n",
              "    </tr>\n",
              "  </thead>\n",
              "  <tbody>\n",
              "    <tr>\n",
              "      <th>0</th>\n",
              "      <td>امروز خبر پاکبانی که توسط اراذل جمهوری اسلامی ...</td>\n",
              "    </tr>\n",
              "    <tr>\n",
              "      <th>1</th>\n",
              "      <td>تاریخ اینگونه وارونه میشه.  کشور رو معطل واکسن...</td>\n",
              "    </tr>\n",
              "    <tr>\n",
              "      <th>2</th>\n",
              "      <td>کوروش کمپانی ۴۰ میلیون دلار بدلیل ممنوعیت ورود...</td>\n",
              "    </tr>\n",
              "    <tr>\n",
              "      <th>3</th>\n",
              "      <td>عوارض واکسن برکت</td>\n",
              "    </tr>\n",
              "    <tr>\n",
              "      <th>4</th>\n",
              "      <td>بارش اولین برف در سطح شهر مزارشریف باعث ایجاد ...</td>\n",
              "    </tr>\n",
              "    <tr>\n",
              "      <th>...</th>\n",
              "      <td>...</td>\n",
              "    </tr>\n",
              "    <tr>\n",
              "      <th>495</th>\n",
              "      <td>چاپ مقاله در هفتمین ژورنال برتر دنیا در زمینه ...</td>\n",
              "    </tr>\n",
              "    <tr>\n",
              "      <th>496</th>\n",
              "      <td>اینم از بدبختی خود تحقیرها بود که به برکت میگف...</td>\n",
              "    </tr>\n",
              "    <tr>\n",
              "      <th>497</th>\n",
              "      <td>همین یک خبر کافیه تا به این باور برسیم که ما \"...</td>\n",
              "    </tr>\n",
              "    <tr>\n",
              "      <th>498</th>\n",
              "      <td>در رابطه با واکسن برکت بعد از چهار سال !، سازم...</td>\n",
              "    </tr>\n",
              "    <tr>\n",
              "      <th>499</th>\n",
              "      <td>🔴مقاله تحقیقات #واکسن_برکت ⁩برای نخستین‌بار در...</td>\n",
              "    </tr>\n",
              "  </tbody>\n",
              "</table>\n",
              "<p>500 rows × 1 columns</p>\n",
              "</div>\n",
              "    <div class=\"colab-df-buttons\">\n",
              "\n",
              "  <div class=\"colab-df-container\">\n",
              "    <button class=\"colab-df-convert\" onclick=\"convertToInteractive('df-d908adf3-28c7-40fb-baa7-a41e975d490c')\"\n",
              "            title=\"Convert this dataframe to an interactive table.\"\n",
              "            style=\"display:none;\">\n",
              "\n",
              "  <svg xmlns=\"http://www.w3.org/2000/svg\" height=\"24px\" viewBox=\"0 -960 960 960\">\n",
              "    <path d=\"M120-120v-720h720v720H120Zm60-500h600v-160H180v160Zm220 220h160v-160H400v160Zm0 220h160v-160H400v160ZM180-400h160v-160H180v160Zm440 0h160v-160H620v160ZM180-180h160v-160H180v160Zm440 0h160v-160H620v160Z\"/>\n",
              "  </svg>\n",
              "    </button>\n",
              "\n",
              "  <style>\n",
              "    .colab-df-container {\n",
              "      display:flex;\n",
              "      gap: 12px;\n",
              "    }\n",
              "\n",
              "    .colab-df-convert {\n",
              "      background-color: #E8F0FE;\n",
              "      border: none;\n",
              "      border-radius: 50%;\n",
              "      cursor: pointer;\n",
              "      display: none;\n",
              "      fill: #1967D2;\n",
              "      height: 32px;\n",
              "      padding: 0 0 0 0;\n",
              "      width: 32px;\n",
              "    }\n",
              "\n",
              "    .colab-df-convert:hover {\n",
              "      background-color: #E2EBFA;\n",
              "      box-shadow: 0px 1px 2px rgba(60, 64, 67, 0.3), 0px 1px 3px 1px rgba(60, 64, 67, 0.15);\n",
              "      fill: #174EA6;\n",
              "    }\n",
              "\n",
              "    .colab-df-buttons div {\n",
              "      margin-bottom: 4px;\n",
              "    }\n",
              "\n",
              "    [theme=dark] .colab-df-convert {\n",
              "      background-color: #3B4455;\n",
              "      fill: #D2E3FC;\n",
              "    }\n",
              "\n",
              "    [theme=dark] .colab-df-convert:hover {\n",
              "      background-color: #434B5C;\n",
              "      box-shadow: 0px 1px 3px 1px rgba(0, 0, 0, 0.15);\n",
              "      filter: drop-shadow(0px 1px 2px rgba(0, 0, 0, 0.3));\n",
              "      fill: #FFFFFF;\n",
              "    }\n",
              "  </style>\n",
              "\n",
              "    <script>\n",
              "      const buttonEl =\n",
              "        document.querySelector('#df-d908adf3-28c7-40fb-baa7-a41e975d490c button.colab-df-convert');\n",
              "      buttonEl.style.display =\n",
              "        google.colab.kernel.accessAllowed ? 'block' : 'none';\n",
              "\n",
              "      async function convertToInteractive(key) {\n",
              "        const element = document.querySelector('#df-d908adf3-28c7-40fb-baa7-a41e975d490c');\n",
              "        const dataTable =\n",
              "          await google.colab.kernel.invokeFunction('convertToInteractive',\n",
              "                                                    [key], {});\n",
              "        if (!dataTable) return;\n",
              "\n",
              "        const docLinkHtml = 'Like what you see? Visit the ' +\n",
              "          '<a target=\"_blank\" href=https://colab.research.google.com/notebooks/data_table.ipynb>data table notebook</a>'\n",
              "          + ' to learn more about interactive tables.';\n",
              "        element.innerHTML = '';\n",
              "        dataTable['output_type'] = 'display_data';\n",
              "        await google.colab.output.renderOutput(dataTable, element);\n",
              "        const docLink = document.createElement('div');\n",
              "        docLink.innerHTML = docLinkHtml;\n",
              "        element.appendChild(docLink);\n",
              "      }\n",
              "    </script>\n",
              "  </div>\n",
              "\n",
              "\n",
              "<div id=\"df-2149f091-9425-4027-affe-dcc28fcf11fb\">\n",
              "  <button class=\"colab-df-quickchart\" onclick=\"quickchart('df-2149f091-9425-4027-affe-dcc28fcf11fb')\"\n",
              "            title=\"Suggest charts\"\n",
              "            style=\"display:none;\">\n",
              "\n",
              "<svg xmlns=\"http://www.w3.org/2000/svg\" height=\"24px\"viewBox=\"0 0 24 24\"\n",
              "     width=\"24px\">\n",
              "    <g>\n",
              "        <path d=\"M19 3H5c-1.1 0-2 .9-2 2v14c0 1.1.9 2 2 2h14c1.1 0 2-.9 2-2V5c0-1.1-.9-2-2-2zM9 17H7v-7h2v7zm4 0h-2V7h2v10zm4 0h-2v-4h2v4z\"/>\n",
              "    </g>\n",
              "</svg>\n",
              "  </button>\n",
              "\n",
              "<style>\n",
              "  .colab-df-quickchart {\n",
              "      --bg-color: #E8F0FE;\n",
              "      --fill-color: #1967D2;\n",
              "      --hover-bg-color: #E2EBFA;\n",
              "      --hover-fill-color: #174EA6;\n",
              "      --disabled-fill-color: #AAA;\n",
              "      --disabled-bg-color: #DDD;\n",
              "  }\n",
              "\n",
              "  [theme=dark] .colab-df-quickchart {\n",
              "      --bg-color: #3B4455;\n",
              "      --fill-color: #D2E3FC;\n",
              "      --hover-bg-color: #434B5C;\n",
              "      --hover-fill-color: #FFFFFF;\n",
              "      --disabled-bg-color: #3B4455;\n",
              "      --disabled-fill-color: #666;\n",
              "  }\n",
              "\n",
              "  .colab-df-quickchart {\n",
              "    background-color: var(--bg-color);\n",
              "    border: none;\n",
              "    border-radius: 50%;\n",
              "    cursor: pointer;\n",
              "    display: none;\n",
              "    fill: var(--fill-color);\n",
              "    height: 32px;\n",
              "    padding: 0;\n",
              "    width: 32px;\n",
              "  }\n",
              "\n",
              "  .colab-df-quickchart:hover {\n",
              "    background-color: var(--hover-bg-color);\n",
              "    box-shadow: 0 1px 2px rgba(60, 64, 67, 0.3), 0 1px 3px 1px rgba(60, 64, 67, 0.15);\n",
              "    fill: var(--button-hover-fill-color);\n",
              "  }\n",
              "\n",
              "  .colab-df-quickchart-complete:disabled,\n",
              "  .colab-df-quickchart-complete:disabled:hover {\n",
              "    background-color: var(--disabled-bg-color);\n",
              "    fill: var(--disabled-fill-color);\n",
              "    box-shadow: none;\n",
              "  }\n",
              "\n",
              "  .colab-df-spinner {\n",
              "    border: 2px solid var(--fill-color);\n",
              "    border-color: transparent;\n",
              "    border-bottom-color: var(--fill-color);\n",
              "    animation:\n",
              "      spin 1s steps(1) infinite;\n",
              "  }\n",
              "\n",
              "  @keyframes spin {\n",
              "    0% {\n",
              "      border-color: transparent;\n",
              "      border-bottom-color: var(--fill-color);\n",
              "      border-left-color: var(--fill-color);\n",
              "    }\n",
              "    20% {\n",
              "      border-color: transparent;\n",
              "      border-left-color: var(--fill-color);\n",
              "      border-top-color: var(--fill-color);\n",
              "    }\n",
              "    30% {\n",
              "      border-color: transparent;\n",
              "      border-left-color: var(--fill-color);\n",
              "      border-top-color: var(--fill-color);\n",
              "      border-right-color: var(--fill-color);\n",
              "    }\n",
              "    40% {\n",
              "      border-color: transparent;\n",
              "      border-right-color: var(--fill-color);\n",
              "      border-top-color: var(--fill-color);\n",
              "    }\n",
              "    60% {\n",
              "      border-color: transparent;\n",
              "      border-right-color: var(--fill-color);\n",
              "    }\n",
              "    80% {\n",
              "      border-color: transparent;\n",
              "      border-right-color: var(--fill-color);\n",
              "      border-bottom-color: var(--fill-color);\n",
              "    }\n",
              "    90% {\n",
              "      border-color: transparent;\n",
              "      border-bottom-color: var(--fill-color);\n",
              "    }\n",
              "  }\n",
              "</style>\n",
              "\n",
              "  <script>\n",
              "    async function quickchart(key) {\n",
              "      const quickchartButtonEl =\n",
              "        document.querySelector('#' + key + ' button');\n",
              "      quickchartButtonEl.disabled = true;  // To prevent multiple clicks.\n",
              "      quickchartButtonEl.classList.add('colab-df-spinner');\n",
              "      try {\n",
              "        const charts = await google.colab.kernel.invokeFunction(\n",
              "            'suggestCharts', [key], {});\n",
              "      } catch (error) {\n",
              "        console.error('Error during call to suggestCharts:', error);\n",
              "      }\n",
              "      quickchartButtonEl.classList.remove('colab-df-spinner');\n",
              "      quickchartButtonEl.classList.add('colab-df-quickchart-complete');\n",
              "    }\n",
              "    (() => {\n",
              "      let quickchartButtonEl =\n",
              "        document.querySelector('#df-2149f091-9425-4027-affe-dcc28fcf11fb button');\n",
              "      quickchartButtonEl.style.display =\n",
              "        google.colab.kernel.accessAllowed ? 'block' : 'none';\n",
              "    })();\n",
              "  </script>\n",
              "</div>\n",
              "    </div>\n",
              "  </div>\n"
            ],
            "application/vnd.google.colaboratory.intrinsic+json": {
              "type": "dataframe",
              "variable_name": "data",
              "summary": "{\n  \"name\": \"data\",\n  \"rows\": 500,\n  \"fields\": [\n    {\n      \"column\": \"text\",\n      \"properties\": {\n        \"dtype\": \"string\",\n        \"samples\": [\n          \"\\u0645\\u0646\\u0645 \\u0628\\u0631\\u06a9\\u062a \\u0632\\u062f\\u0645\\u200c \\u062a\\u0627 \\u0627\\u0644\\u0627\\u0646\\u0645\\u200c\\u062e\\u0648\\u062f\\u0645\\u200c\\u0686\\u06cc\\u0632\\u06cc\\u0645 \\u0646\\u0634\\u062f \\u0648\\u0644\\u06cc \\u0627\\u0637\\u0631\\u0627\\u0641\\u06cc\\u0627\\u0646\\u0645 \\u0627\\u06a9\\u062b\\u0631\\u0627 \\u0645\\u0634\\u06a9\\u0644 \\u067e\\u06cc\\u062f\\u0627 \\u06a9\\u0631\\u062f\\u0646  \\u062e\\u0648\\u0627\\u0647\\u0631\\u0645 \\u060c \\u0645\\u0627\\u0645\\u0627\\u0646\\u0645\\u060c \\u0639\\u0645\\u0647 \\u0647\\u0627\\u0645 \\u0648..... \\u0631\\u0628\\u0637\\u06cc \\u0628 \\u0648\\u0627\\u06a9\\u0633\\u0646 \\u0647\\u0645 \\u0646\\u062f\\u0627\\u0634\\u062a\",\n          \"\\u0627\\u0644\\u0628\\u062a\\u0647 \\u0645\\u0639\\u062c\\u0632\\u0647 \\u0622\\u0628 \\u06a9\\u0631 \\u0631\\u0648\\u0627\\u06cc\\u062a \\u062c\\u062f\\u06cc\\u062f\\u06cc \\u0646\\u06cc\\u0633\\u062a. \\u0628\\u0639\\u062f \\u0627\\u0632 \\u062f\\u0627\\u0633\\u062a\\u0627\\u0646 \\u063a\\u0633\\u0644 \\u0642\\u0646\\u062f\\u060c \\u06f3 \\u0633\\u0627\\u0644 \\u0642\\u0628\\u0644 \\u0647\\u0645 \\u06cc\\u06a9 \\u0645\\u06cc\\u0644\\u06cc\\u0627\\u0631\\u062f \\u062f\\u0644\\u0627\\u0631 \\u0631\\u0648 \\u0632\\u062f\\u0646\\u062f \\u062a\\u0648 \\u0638\\u0631\\u0641 \\u0633\\u0631\\u0645 \\u0648\\u0627\\u06a9\\u0633\\u0646 \\u0628\\u0631\\u06a9\\u062a \\u062f\\u06cc\\u062f\\u0646\\u062f \\u062d\\u0644\\u0627\\u0644 \\u0645\\u06cc\\u0634\\u0647.\",\n          \"\\u0647\\u0631 \\u0686\\u06cc \\u0632\\u0648\\u0631 \\u0632\\u062f\\u0645 \\u06a9\\u0647 \\u0627\\u0645\\u0633\\u0627\\u0644 \\u0642\\u0628\\u0644 \\u0648\\u0627\\u06a9\\u0633\\u0646 \\u0633\\u0631\\u0645\\u0627 \\u0646\\u062e\\u0648\\u0631\\u0645 \\u06a9\\u0647 \\u0645\\u062b\\u0644 \\u0633\\u0627\\u0644 \\u067e\\u06cc\\u0634 \\u067e\\u062f\\u0631\\u0645 \\u062f\\u0631 \\u0646\\u06cc\\u0627\\u062f\\u060c \\u0646\\u0634\\u062f\\u060c \\u0648 \\u062f\\u0648\\u0628\\u0627\\u0631\\u0647 \\u062c\\u0631 \\u062e\\u0648\\u0631\\u062f\\u0645. \\u0648\\u06cc\\u0631\\u0648\\u0633 \\u0647\\u0627\\u06cc \\u0627\\u06cc\\u0646\\u062c\\u0627 \\u0647\\u0645 \\u06a9\\u0647 \\u067e\\u0631 \\u0628\\u0631\\u06a9\\u062a \\u0648 \\u0628\\u0627 \\u06a9\\u06cc\\u0641\\u06cc\\u062a\\u060c \\u0648\\u0642\\u062a\\u06cc \\u0645\\u06cc\\u06af\\u06cc\\u0631\\u06cc \\u062a\\u0627 \\u06f6 \\u0645\\u0627\\u0647 \\u06cc\\u0642\\u0647\\u200c\\u062a \\u0631\\u0648 \\u0648\\u0644 \\u0646\\u0645\\u06cc\\u06a9\\u0646\\u0647. \\u0628\\u062f \\u0645\\u0631\\u06cc\\u0636 \\u0628\\u0648\\u062f\\u0646 \\u0647\\u0645 \\u06a9\\u0647 \\u0627\\u0632 \\u067e\\u062f\\u0631\\u0628\\u0632\\u0631\\u06af \\u0639\\u0632\\u06cc\\u0632\\u0645 \\u0628\\u0647 \\u0627\\u0631\\u062b \\u0628\\u0631\\u062f\\u0645\\u060c \\u062e\\u062f\\u0627 \\u0628\\u0647 \\u062f\\u0627\\u062f \\u0634\\u06cc\\u0645\\u0627 \\u0628\\u0631\\u0633\\u0647.\"\n        ],\n        \"num_unique_values\": 488,\n        \"semantic_type\": \"\",\n        \"description\": \"\"\n      }\n    }\n  ]\n}"
            }
          },
          "metadata": {},
          "execution_count": 102
        }
      ]
    },
    {
      "cell_type": "code",
      "source": [
        "data.to_csv('tweets.csv', index=False, header=True, encoding=\"utf-8-sig\")"
      ],
      "metadata": {
        "id": "ITe22ntJS-wl"
      },
      "execution_count": 103,
      "outputs": []
    },
    {
      "cell_type": "code",
      "source": [
        "from google.colab import files\n",
        "files.download('tweets.csv')"
      ],
      "metadata": {
        "id": "iiBxXMaxe5rj",
        "outputId": "69f9980a-0b56-4caf-a012-7c501dc054da",
        "colab": {
          "base_uri": "https://localhost:8080/",
          "height": 17
        }
      },
      "execution_count": 104,
      "outputs": [
        {
          "output_type": "display_data",
          "data": {
            "text/plain": [
              "<IPython.core.display.Javascript object>"
            ],
            "application/javascript": [
              "\n",
              "    async function download(id, filename, size) {\n",
              "      if (!google.colab.kernel.accessAllowed) {\n",
              "        return;\n",
              "      }\n",
              "      const div = document.createElement('div');\n",
              "      const label = document.createElement('label');\n",
              "      label.textContent = `Downloading \"${filename}\": `;\n",
              "      div.appendChild(label);\n",
              "      const progress = document.createElement('progress');\n",
              "      progress.max = size;\n",
              "      div.appendChild(progress);\n",
              "      document.body.appendChild(div);\n",
              "\n",
              "      const buffers = [];\n",
              "      let downloaded = 0;\n",
              "\n",
              "      const channel = await google.colab.kernel.comms.open(id);\n",
              "      // Send a message to notify the kernel that we're ready.\n",
              "      channel.send({})\n",
              "\n",
              "      for await (const message of channel.messages) {\n",
              "        // Send a message to notify the kernel that we're ready.\n",
              "        channel.send({})\n",
              "        if (message.buffers) {\n",
              "          for (const buffer of message.buffers) {\n",
              "            buffers.push(buffer);\n",
              "            downloaded += buffer.byteLength;\n",
              "            progress.value = downloaded;\n",
              "          }\n",
              "        }\n",
              "      }\n",
              "      const blob = new Blob(buffers, {type: 'application/binary'});\n",
              "      const a = document.createElement('a');\n",
              "      a.href = window.URL.createObjectURL(blob);\n",
              "      a.download = filename;\n",
              "      div.appendChild(a);\n",
              "      a.click();\n",
              "      div.remove();\n",
              "    }\n",
              "  "
            ]
          },
          "metadata": {}
        },
        {
          "output_type": "display_data",
          "data": {
            "text/plain": [
              "<IPython.core.display.Javascript object>"
            ],
            "application/javascript": [
              "download(\"download_7b7232dd-691c-4298-ad1b-cf02ff05fd42\", \"tweets.csv\", 138579)"
            ]
          },
          "metadata": {}
        }
      ]
    }
  ]
}